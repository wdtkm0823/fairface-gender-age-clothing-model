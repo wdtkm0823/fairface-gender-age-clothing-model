{
 "cells": [
  {
   "cell_type": "code",
   "execution_count": 12,
   "metadata": {},
   "outputs": [],
   "source": [
    "import os\n",
    "import pandas as pd\n",
    "import numpy as np\n",
    "from PIL import Image\n",
    "import matplotlib.pyplot as plt\n",
    "\n",
    "import torch\n",
    "import torch.nn as nn\n",
    "import torch.optim as optim\n",
    "from torch.utils.data import Dataset, DataLoader\n",
    "import torchvision\n",
    "from torchvision import transforms, models\n",
    "\n",
    "%matplotlib inline\n"
   ]
  },
  {
   "cell_type": "code",
   "execution_count": 13,
   "metadata": {},
   "outputs": [],
   "source": [
    "BASE_DIR = \".\"\n",
    "TRAIN_IMG_DIR = os.path.join(BASE_DIR, \"fairface-img-margin50-trainval/train\")\n",
    "VALIDATION_IMG_DIR = os.path.join(BASE_DIR, \"fairface-img-margin50-trainval/val\")\n",
    "TRAIN_CSV_PATH = os.path.join(BASE_DIR, \"fairface_label_train.csv\")\n",
    "VALIDATION_CSV_PATH = os.path.join(BASE_DIR, \"fairface_label_val.csv\")\n",
    "\n",
    "df = pd.read_csv(TRAIN_CSV_PATH)"
   ]
  },
  {
   "cell_type": "code",
   "execution_count": 14,
   "metadata": {},
   "outputs": [],
   "source": [
    "class FairFaceDataset(Dataset):\n",
    "    def __init__(self, df, img_dir, transform=None):\n",
    "        self.df = df.reset_index(drop=True)\n",
    "        self.img_dir = img_dir\n",
    "        self.transform = transform\n",
    "\n",
    "        # age列（文字列）をカテゴリに変換するためのマッピング例\n",
    "        # FairFace の age 列は '0-2', '3-9', '10-19', '20-29', '30-39', '40-49', '50-59', '60-69', '70+' など\n",
    "        self.age_classes = [\n",
    "            \"0-2\",\n",
    "            \"3-9\",\n",
    "            \"10-19\",\n",
    "            \"20-29\",\n",
    "            \"30-39\",\n",
    "            \"40-49\",\n",
    "            \"50-59\",\n",
    "            \"60-69\",\n",
    "            \"70+\",\n",
    "        ]\n",
    "        self.age_to_idx = {a: i for i, a in enumerate(self.age_classes)}\n",
    "\n",
    "        # gender列（male/female）を二値(0,1)にマッピング\n",
    "        self.gender_to_idx = {\"male\": 0, \"female\": 1}\n",
    "\n",
    "    def __len__(self):\n",
    "        return len(self.df)\n",
    "\n",
    "    def __getitem__(self, idx):\n",
    "        row = self.df.iloc[idx]\n",
    "        img_path = os.path.join(self.img_dir, row[\"file\"])\n",
    "\n",
    "        # 画像読み込み\n",
    "        image = Image.open(img_path).convert(\"RGB\")\n",
    "\n",
    "        # age, gender を数値に変換\n",
    "        age_label = self.age_to_idx[row[\"age\"]]\n",
    "        gender_label = self.gender_to_idx[row[\"gender\"]]\n",
    "\n",
    "        # transform (データ拡張やサイズ正規化など)\n",
    "        if self.transform:\n",
    "            image = self.transform(image)\n",
    "\n",
    "        return image, age_label, gender_label"
   ]
  },
  {
   "cell_type": "code",
   "execution_count": 15,
   "metadata": {},
   "outputs": [],
   "source": [
    "train_df, val_df = train_test_split(df, test_size=0.2, random_state=42)"
   ]
  },
  {
   "cell_type": "code",
   "execution_count": 16,
   "metadata": {},
   "outputs": [],
   "source": [
    "train_transform = transforms.Compose(\n",
    "    [\n",
    "        transforms.Resize((224, 224)),\n",
    "        transforms.RandomHorizontalFlip(),\n",
    "        transforms.ToTensor(),\n",
    "        transforms.Normalize(mean=[0.485, 0.456, 0.406], std=[0.229, 0.224, 0.225]),\n",
    "    ]\n",
    ")"
   ]
  },
  {
   "cell_type": "code",
   "execution_count": 17,
   "metadata": {},
   "outputs": [],
   "source": [
    "val_transform = transforms.Compose(\n",
    "    [\n",
    "        transforms.Resize((224, 224)),\n",
    "        transforms.ToTensor(),\n",
    "        transforms.Normalize(mean=[0.485, 0.456, 0.406], std=[0.229, 0.224, 0.225]),\n",
    "    ]\n",
    ")"
   ]
  },
  {
   "cell_type": "code",
   "execution_count": 18,
   "metadata": {},
   "outputs": [],
   "source": [
    "train_dataset = FairFaceDataset(train_df, TRAIN_IMG_DIR, transform=train_transform)\n",
    "val_dataset = FairFaceDataset(val_df, VALIDATION_IMG_DIR, transform=val_transform)"
   ]
  },
  {
   "cell_type": "code",
   "execution_count": 19,
   "metadata": {},
   "outputs": [],
   "source": [
    "train_loader = DataLoader(train_dataset, batch_size=32, shuffle=True, num_workers=2)\n",
    "val_loader = DataLoader(val_dataset, batch_size=32, shuffle=False, num_workers=2)"
   ]
  },
  {
   "cell_type": "code",
   "execution_count": 20,
   "metadata": {},
   "outputs": [
    {
     "name": "stdout",
     "output_type": "stream",
     "text": [
      "Train samples: 69395 Val samples: 17349\n"
     ]
    }
   ],
   "source": [
    "print(\"Train samples:\", len(train_dataset), \"Val samples:\", len(val_dataset))"
   ]
  },
  {
   "cell_type": "code",
   "execution_count": 21,
   "metadata": {},
   "outputs": [
    {
     "name": "stderr",
     "output_type": "stream",
     "text": [
      "/Users/takumi.wada/Documents/devJourney/fairface-gender-age-clothing-model/.venv/lib/python3.12/site-packages/torchvision/models/_utils.py:208: UserWarning: The parameter 'pretrained' is deprecated since 0.13 and may be removed in the future, please use 'weights' instead.\n",
      "  warnings.warn(\n",
      "/Users/takumi.wada/Documents/devJourney/fairface-gender-age-clothing-model/.venv/lib/python3.12/site-packages/torchvision/models/_utils.py:223: UserWarning: Arguments other than a weight enum or `None` for 'weights' are deprecated since 0.13 and may be removed in the future. The current behavior is equivalent to passing `weights=ResNet18_Weights.IMAGENET1K_V1`. You can also use `weights=ResNet18_Weights.DEFAULT` to get the most up-to-date weights.\n",
      "  warnings.warn(msg)\n",
      "Downloading: \"https://download.pytorch.org/models/resnet18-f37072fd.pth\" to /Users/takumi.wada/.cache/torch/hub/checkpoints/resnet18-f37072fd.pth\n",
      "100.0%\n"
     ]
    }
   ],
   "source": [
    "class AgeGenderModel(nn.Module):\n",
    "    def __init__(self, num_age_classes=9, num_gender_classes=2):\n",
    "        super(AgeGenderModel, self).__init__()\n",
    "        # torchvision の pre-trained ResNet18をバックボーンに使用\n",
    "        self.backbone = models.resnet18(pretrained=True)\n",
    "        # 最終FC層を取り外して特徴ベクトルを抽出しやすくする\n",
    "        in_features = self.backbone.fc.in_features\n",
    "        self.backbone.fc = nn.Identity()\n",
    "\n",
    "        # 年齢層用と性別用の2つの全結合層\n",
    "        self.age_fc = nn.Linear(in_features, num_age_classes)\n",
    "        self.gender_fc = nn.Linear(in_features, num_gender_classes)\n",
    "\n",
    "    def forward(self, x):\n",
    "        feats = self.backbone(x)             # [batch_size, in_features]\n",
    "        age_out = self.age_fc(feats)         # [batch_size, num_age_classes]\n",
    "        gender_out = self.gender_fc(feats)   # [batch_size, num_gender_classes]\n",
    "        return age_out, gender_out\n",
    "\n",
    "device = torch.device(\"cuda\" if torch.cuda.is_available() else \"cpu\")\n",
    "model = AgeGenderModel().to(device)\n"
   ]
  },
  {
   "cell_type": "code",
   "execution_count": 22,
   "metadata": {},
   "outputs": [],
   "source": [
    "criterion_age = nn.CrossEntropyLoss()\n",
    "criterion_gender = nn.CrossEntropyLoss()\n",
    "\n",
    "optimizer = optim.Adam(model.parameters(), lr=1e-4)\n"
   ]
  }
 ],
 "metadata": {
  "kernelspec": {
   "display_name": "fairface-gender-age-clothing-model",
   "language": "python",
   "name": ".venv"
  },
  "language_info": {
   "codemirror_mode": {
    "name": "ipython",
    "version": 3
   },
   "file_extension": ".py",
   "mimetype": "text/x-python",
   "name": "python",
   "nbconvert_exporter": "python",
   "pygments_lexer": "ipython3",
   "version": "3.12.2"
  }
 },
 "nbformat": 4,
 "nbformat_minor": 2
}
