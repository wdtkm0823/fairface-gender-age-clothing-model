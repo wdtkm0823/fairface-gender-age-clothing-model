{
 "cells": [
  {
   "cell_type": "code",
   "execution_count": 2,
   "metadata": {},
   "outputs": [],
   "source": [
    "import os\n",
    "\n",
    "import pandas as pd\n",
    "from PIL import Image\n",
    "from sklearn.model_selection import train_test_split\n",
    "from torch.utils.data import DataLoader, Dataset\n",
    "from torchvision import transforms"
   ]
  },
  {
   "cell_type": "code",
   "execution_count": 3,
   "metadata": {},
   "outputs": [],
   "source": [
    "BASE_DIR = \".\"\n",
    "TRAIN_IMG_DIR = os.path.join(BASE_DIR, \"fairface-img-margin50-trainval/train\")\n",
    "VALIDATION_IMG_DIR = os.path.join(BASE_DIR, \"fairface-img-margin50-trainval/val\")\n",
    "TRAIN_CSV_PATH = os.path.join(BASE_DIR, \"fairface_label_train.csv\")\n",
    "VALIDATION_CSV_PATH = os.path.join(BASE_DIR, \"fairface_label_val.csv\")\n",
    "\n",
    "df = pd.read_csv(TRAIN_CSV_PATH)"
   ]
  },
  {
   "cell_type": "code",
   "execution_count": 4,
   "metadata": {},
   "outputs": [],
   "source": [
    "class FairFaceDataset(Dataset):\n",
    "    def __init__(self, df, img_dir, transform=None):\n",
    "        self.df = df.reset_index(drop=True)\n",
    "        self.img_dir = img_dir\n",
    "        self.transform = transform\n",
    "\n",
    "        # age列（文字列）をカテゴリに変換するためのマッピング例\n",
    "        # FairFace の age 列は '0-2', '3-9', '10-19', '20-29', '30-39', '40-49', '50-59', '60-69', '70+' など\n",
    "        self.age_classes = [\n",
    "            \"0-2\",\n",
    "            \"3-9\",\n",
    "            \"10-19\",\n",
    "            \"20-29\",\n",
    "            \"30-39\",\n",
    "            \"40-49\",\n",
    "            \"50-59\",\n",
    "            \"60-69\",\n",
    "            \"70+\",\n",
    "        ]\n",
    "        self.age_to_idx = {a: i for i, a in enumerate(self.age_classes)}\n",
    "\n",
    "        # gender列（male/female）を二値(0,1)にマッピング\n",
    "        self.gender_to_idx = {\"male\": 0, \"female\": 1}\n",
    "\n",
    "    def __len__(self):\n",
    "        return len(self.df)\n",
    "\n",
    "    def __getitem__(self, idx):\n",
    "        row = self.df.iloc[idx]\n",
    "        img_path = os.path.join(self.img_dir, row[\"file\"])\n",
    "\n",
    "        # 画像読み込み\n",
    "        image = Image.open(img_path).convert(\"RGB\")\n",
    "\n",
    "        # age, gender を数値に変換\n",
    "        age_label = self.age_to_idx[row[\"age\"]]\n",
    "        gender_label = self.gender_to_idx[row[\"gender\"]]\n",
    "\n",
    "        # transform (データ拡張やサイズ正規化など)\n",
    "        if self.transform:\n",
    "            image = self.transform(image)\n",
    "\n",
    "        return image, age_label, gender_label"
   ]
  },
  {
   "cell_type": "code",
   "execution_count": 9,
   "metadata": {},
   "outputs": [],
   "source": [
    "train_df, val_df = train_test_split(df, test_size=0.2, random_state=42)"
   ]
  },
  {
   "cell_type": "code",
   "execution_count": 10,
   "metadata": {},
   "outputs": [],
   "source": [
    "train_transform = transforms.Compose(\n",
    "    [\n",
    "        transforms.Resize((224, 224)),\n",
    "        transforms.RandomHorizontalFlip(),\n",
    "        transforms.ToTensor(),\n",
    "        transforms.Normalize(mean=[0.485, 0.456, 0.406], std=[0.229, 0.224, 0.225]),\n",
    "    ]\n",
    ")"
   ]
  },
  {
   "cell_type": "code",
   "execution_count": 11,
   "metadata": {},
   "outputs": [],
   "source": [
    "val_transform = transforms.Compose(\n",
    "    [\n",
    "        transforms.Resize((224, 224)),\n",
    "        transforms.ToTensor(),\n",
    "        transforms.Normalize(mean=[0.485, 0.456, 0.406], std=[0.229, 0.224, 0.225]),\n",
    "    ]\n",
    ")"
   ]
  },
  {
   "cell_type": "code",
   "execution_count": 12,
   "metadata": {},
   "outputs": [],
   "source": [
    "train_dataset = FairFaceDataset(train_df, TRAIN_IMG_DIR, transform=train_transform)\n",
    "val_dataset = FairFaceDataset(val_df, VALIDATION_IMG_DIR, transform=val_transform)"
   ]
  },
  {
   "cell_type": "code",
   "execution_count": 13,
   "metadata": {},
   "outputs": [],
   "source": [
    "train_loader = DataLoader(train_dataset, batch_size=32, shuffle=True, num_workers=2)\n",
    "val_loader = DataLoader(val_dataset, batch_size=32, shuffle=False, num_workers=2)"
   ]
  }
 ],
 "metadata": {
  "kernelspec": {
   "display_name": "fairface-gender-age-clothing-model",
   "language": "python",
   "name": ".venv"
  },
  "language_info": {
   "codemirror_mode": {
    "name": "ipython",
    "version": 3
   },
   "file_extension": ".py",
   "mimetype": "text/x-python",
   "name": "python",
   "nbconvert_exporter": "python",
   "pygments_lexer": "ipython3",
   "version": "3.12.2"
  }
 },
 "nbformat": 4,
 "nbformat_minor": 2
}
